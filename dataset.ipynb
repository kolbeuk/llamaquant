{
 "cells": [
  {
   "cell_type": "code",
   "execution_count": null,
   "metadata": {},
   "outputs": [],
   "source": [
    "import pandas as pd\n",
    "import json "
   ]
  },
  {
   "cell_type": "code",
   "execution_count": null,
   "metadata": {},
   "outputs": [],
   "source": [
    "data = []\n",
    "with open(\"snli_1.0/snli_1.0_train.jsonl\", \"r\") as file:\n",
    "    for line in file:\n",
    "        data.append(json.loads(line))"
   ]
  },
  {
   "cell_type": "markdown",
   "metadata": {},
   "source": []
  },
  {
   "cell_type": "code",
   "execution_count": null,
   "metadata": {},
   "outputs": [],
   "source": [
    "df = pd.DataFrame(data)"
   ]
  },
  {
   "cell_type": "code",
   "execution_count": null,
   "metadata": {},
   "outputs": [],
   "source": [
    "df[df['gold_label'] == 'contradiction'].sample(10)[['sentence1', 'sentence2']]\n"
   ]
  },
  {
   "cell_type": "code",
   "execution_count": null,
   "metadata": {},
   "outputs": [],
   "source": [
    "def convert_to_format(row):\n",
    "    sentence1 = row['sentence1']\n",
    "    sentence2 = row['sentence2']\n",
    "    prompt = \"\"\"Below is an instruction that describes a task paired with input that provides further context. Write a response that appropriately completes the request.\"\"\"\n",
    "    instruction = \"\"\"Given the following sentence, your job is to generate the negation for it in the json format\"\"\"\n",
    "    input = str(sentence1)\n",
    "    response = f\"\"\"```json\n",
    "{{'orignal_sentence': '{sentence1}', 'generated_negation': '{sentence2}'}}\n",
    "```\n",
    "\"\"\"\n",
    "    if len(input.strip()) == 0:  #  prompt + 2 new lines + ###instruction + new line + input + new line + ###response\n",
    "        text = prompt + \"\\n\\n### Instruction:\\n\" + instruction + \"\\n### Response:\\n\" + response\n",
    "    else:\n",
    "        text = prompt + \"\\n\\n### Instruction:\\n\" + instruction + \"\\n### Input:\\n\" + input + \"\\n\" + \"\\n### Response:\\n\" + response\n",
    "    \n",
    "    # we need 4 columns for auto train, instruction, input, output, text\n",
    "    return pd.Series([instruction, input, response, text])"
   ]
  },
  {
   "cell_type": "code",
   "execution_count": null,
   "metadata": {},
   "outputs": [],
   "source": [
    "new_df = df[df['gold_label'] == 'contradiction'][['sentence1', 'sentence2']].apply(convert_to_format, axis=1)\n",
    "new_df.columns = ['instruction', 'input', 'output', 'text']\n",
    "\n",
    "new_df.to_csv('snli_instruct.csv', index=False)"
   ]
  }
 ],
 "metadata": {
  "kernelspec": {
   "display_name": "Python 3",
   "language": "python",
   "name": "python3"
  },
  "language_info": {
   "codemirror_mode": {
    "name": "ipython",
    "version": 3
   },
   "file_extension": ".py",
   "mimetype": "text/x-python",
   "name": "python",
   "nbconvert_exporter": "python",
   "pygments_lexer": "ipython3",
   "version": "3.11.6"
  }
 },
 "nbformat": 4,
 "nbformat_minor": 2
}
